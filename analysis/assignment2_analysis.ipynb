{
 "cells": [
  {
   "cell_type": "markdown",
   "id": "66f4ed4c",
   "metadata": {},
   "source": [
    "\n",
    "<h1 align=\"center\">Assignment 2</h1>\n",
    "<h3 style=\"display:block; margin-top:5px;\" align=\"center\">Online Tracking and Privacy</h3>    \n",
    "<br>"
   ]
  },
  {
   "cell_type": "code",
   "execution_count": 2,
   "id": "7b720384",
   "metadata": {},
   "outputs": [],
   "source": [
    "import os\n",
    "from collections import defaultdict\n",
    "import seaborn as sns\n",
    "import pandas as pd\n",
    "import json\n",
    "import tldextract\n",
    "from datetime import datetime"
   ]
  },
  {
   "cell_type": "code",
   "execution_count": 3,
   "id": "26dc0e4f",
   "metadata": {},
   "outputs": [],
   "source": [
    "\"\"\"\n",
    "This function loads the har files obtained from the website\n",
    "\"\"\"\n",
    "def load_file(path):\n",
    "    with open(path, 'r', encoding='utf-8') as file:\n",
    "        return json.load(file)\n",
    "\n",
    "\"\"\"\n",
    "This function obtains the domains of the urls.\n",
    "\"\"\"\n",
    "def extract_domain_info(url):\n",
    "    domain_info = tldextract.extract(url)\n",
    "    return domain_info.registered_domain\n",
    "\n",
    "\"\"\"\n",
    "This function obtains the entity_name of the organization that owns the domain names of the request urls\n",
    "\"\"\"\n",
    "def extract_entity_name(domain, entity_map):\n",
    "    domain_info = tldextract.extract(domain)\n",
    "    registered_domain = domain_info.registered_domain\n",
    "    return entity_map.get(registered_domain, {\"entityName\": \"Unknown\"})[\"entityName\"]\n",
    "\n",
    "\"\"\"\n",
    "Load in all the har files.\n",
    "\"\"\"\n",
    "def load_har_files(directory):\n",
    "    hars_data = []\n",
    "    for filename in os.listdir(directory):\n",
    "        if filename.endswith('.har'):\n",
    "            file_path = os.path.join(directory, filename)\n",
    "            file_path = file_path.replace(\"\\\\\", \"/\")\n",
    "\n",
    "            har_data = load_file(file_path)\n",
    "            hars_data.append(har_data)\n",
    "\n",
    "    return hars_data"
   ]
  },
  {
   "cell_type": "code",
   "execution_count": 4,
   "id": "d7d7f77b",
   "metadata": {},
   "outputs": [],
   "source": [
    "# Open document with the statistics of the crawler\n",
    "stats = load_file(\"../analysis/stats-2024-04-09 14:29:32.887541.json\")\n",
    "\n",
    "# Load in all the har files\n",
    "hars_allow = load_har_files('../crawl_data_allow')\n",
    "hars_block = load_har_files('../crawl_data_block')"
   ]
  },
  {
   "cell_type": "markdown",
   "id": "19c4427c",
   "metadata": {},
   "source": [
    "### Exercise 1"
   ]
  },
  {
   "cell_type": "code",
   "execution_count": 6,
   "id": "10956b96",
   "metadata": {},
   "outputs": [
    {
     "data": {
      "text/html": [
       "<div>\n",
       "<style scoped>\n",
       "    .dataframe tbody tr th:only-of-type {\n",
       "        vertical-align: middle;\n",
       "    }\n",
       "\n",
       "    .dataframe tbody tr th {\n",
       "        vertical-align: top;\n",
       "    }\n",
       "\n",
       "    .dataframe thead th {\n",
       "        text-align: right;\n",
       "    }\n",
       "</style>\n",
       "<table border=\"1\" class=\"dataframe\">\n",
       "  <thead>\n",
       "    <tr style=\"text-align: right;\">\n",
       "      <th></th>\n",
       "      <th>Error type</th>\n",
       "      <th>Crawl-Accept</th>\n",
       "      <th>Crawl-Block</th>\n",
       "    </tr>\n",
       "  </thead>\n",
       "  <tbody>\n",
       "    <tr>\n",
       "      <th>0</th>\n",
       "      <td>Page load timeout</td>\n",
       "      <td>7</td>\n",
       "      <td>7</td>\n",
       "    </tr>\n",
       "    <tr>\n",
       "      <th>1</th>\n",
       "      <td>Consent click failure</td>\n",
       "      <td>27</td>\n",
       "      <td>27</td>\n",
       "    </tr>\n",
       "  </tbody>\n",
       "</table>\n",
       "</div>"
      ],
      "text/plain": [
       "              Error type  Crawl-Accept  Crawl-Block\n",
       "0      Page load timeout             7            7\n",
       "1  Consent click failure            27           27"
      ]
     },
     "execution_count": 6,
     "metadata": {},
     "output_type": "execute_result"
    }
   ],
   "source": [
    "data = {\n",
    "    'Error type': ['Page load timeout', 'Consent click failure'],\n",
    "    'Crawl-Accept': [len(stats['page_load_timeout_allow']), len(stats['consent_click_failure_allow'])],\n",
    "    'Crawl-Block': [len(stats['page_load_timeout_block']), len(stats['consent_click_failure_block']) ]\n",
    "}\n",
    "pd.DataFrame(data)"
   ]
  },
  {
   "cell_type": "markdown",
   "id": "016be6c5",
   "metadata": {},
   "source": [
    "## Exercise 2"
   ]
  },
  {
   "cell_type": "markdown",
   "id": "dd0cc55e",
   "metadata": {},
   "source": [
    "- Page load time"
   ]
  },
  {
   "cell_type": "code",
   "execution_count": 7,
   "id": "9666f9d9",
   "metadata": {},
   "outputs": [],
   "source": [
    "page_load_times_allow = [(url_time['page_load_time'], 'Allow') for url_time in stats[\"page_load_times_allow\"]]\n",
    "page_load_times_block = [(url_time['page_load_time'], 'Block') for url_time in stats[\"page_load_times_block\"]]"
   ]
  },
  {
   "cell_type": "code",
   "execution_count": 8,
   "id": "623d57eb",
   "metadata": {},
   "outputs": [
    {
     "data": {
      "text/plain": [
       "<Axes: xlabel='Crawl Type', ylabel='Page load time'>"
      ]
     },
     "execution_count": 8,
     "metadata": {},
     "output_type": "execute_result"
    },
    {
     "data": {
      "image/png": "[encoded data removed]",
      "text/plain": [
       "<Figure size 640x480 with 1 Axes>"
      ]
     },
     "metadata": {},
     "output_type": "display_data"
    }
   ],
   "source": [
    "df_page_load_times = pd.DataFrame(page_load_times_allow + page_load_times_block, columns=['Page load time', 'Crawl Type'])\n",
    "sns.set_style(\"whitegrid\")\n",
    "sns.boxplot(x = 'Crawl Type', y = 'Page load time', data = df_page_load_times)"
   ]
  },
  {
   "cell_type": "markdown",
   "id": "d7fa010c",
   "metadata": {},
   "source": [
    "- Number of requests"
   ]
  },
  {
   "cell_type": "code",
   "execution_count": 9,
   "id": "32c8406d",
   "metadata": {},
   "outputs": [],
   "source": [
    "requests_allow = [(len(har['log']['entries']), 'Allow') for har in hars_allow]\n",
    "requests_block = [(len(har['log']['entries']), 'Block') for har in hars_block]"
   ]
  },
  {
   "cell_type": "code",
   "execution_count": 11,
   "id": "939eeb03",
   "metadata": {},
   "outputs": [
    {
     "data": {
      "text/plain": [
       "<Axes: xlabel='Crawl Type', ylabel='Number of requests'>"
      ]
     },
     "execution_count": 11,
     "metadata": {},
     "output_type": "execute_result"
    },
    {
     "data": {
      "image/png": "[encoded data removed]",
      "text/plain": [
       "<Figure size 640x480 with 1 Axes>"
      ]
     },
     "metadata": {},
     "output_type": "display_data"
    }
   ],
   "source": [
    "df_number_requests = pd.DataFrame(requests_allow + requests_block, columns=['Number of requests', 'Crawl Type'])\n",
    "sns.set_style(\"whitegrid\")\n",
    "sns.boxplot(x = 'Crawl Type', y = 'Number of requests', data = df_number_requests)"
   ]
  },
  {
   "cell_type": "markdown",
   "id": "419c73ed",
   "metadata": {},
   "source": [
    "- Numbers of distincs third party domains"
   ]
  },
  {
   "cell_type": "code",
   "execution_count": 22,
   "id": "357132ff",
   "metadata": {},
   "outputs": [],
   "source": [
    "def count_third_party(hars):\n",
    "    third_party_counts = []\n",
    "\n",
    "    for har in hars:\n",
    "        main_title = har['log']['entries'][0]['request']['url']\n",
    "        main_domain = extract_domain_info(main_title)\n",
    "\n",
    "        third_party_domains = set()\n",
    "\n",
    "        for entry in har['log']['entries'][1:]:\n",
    "            url = entry['request']['url']\n",
    "            domain = extract_domain_info(url)\n",
    "\n",
    "            if domain and domain != main_domain:\n",
    "                third_party_domains.add(domain)\n",
    "\n",
    "        third_party_counts.append(len(third_party_domains))\n",
    "\n",
    "    return third_party_counts\n",
    "\n",
    "third_party_allow = [(count, 'Allow') for count in count_third_party(hars_allow)]\n",
    "third_party_block = [(count, 'Block') for count in count_third_party(hars_block)]"
   ]
  },
  {
   "cell_type": "code",
   "execution_count": 23,
   "id": "ccd83553",
   "metadata": {},
   "outputs": [
    {
     "data": {
      "text/plain": [
       "<Axes: xlabel='Crawl Type', ylabel='Number of distinct third-party domains'>"
      ]
     },
     "execution_count": 23,
     "metadata": {},
     "output_type": "execute_result"
    },
    {
     "data": {
      "image/png": "[encoded data removed]",
      "text/plain": [
       "<Figure size 640x480 with 1 Axes>"
      ]
     },
     "metadata": {},
     "output_type": "display_data"
    }
   ],
   "source": [
    "df_third_party = pd.DataFrame(third_party_allow + third_party_block, columns=['Number of distinct third-party domains', 'Crawl Type'])\n",
    "sns.set_style(\"whitegrid\")\n",
    "sns.boxplot(x = 'Crawl Type', y = 'Number of distinct third-party domains', data = df_third_party)"
   ]
  },
  {
   "cell_type": "markdown",
   "id": "bfac211a",
   "metadata": {},
   "source": [
    "- Number of distinct tracker domains\n"
   ]
  },
  {
   "cell_type": "code",
   "execution_count": 26,
   "id": "e5944932",
   "metadata": {},
   "outputs": [],
   "source": [
    "disconnect_domains = []\n",
    "disconnect = load_file(\"../utils/services.json\")\n",
    "for elem in disconnect['categories']:\n",
    "    for item in disconnect['categories'][elem]:\n",
    "        for value in item.values():\n",
    "            for sub_value in value.values():\n",
    "                for domain in sub_value:\n",
    "                    if domain not in disconnect_domains:\n",
    "                        disconnect_domains.append(domain)\n"
   ]
  },
  {
   "cell_type": "code",
   "execution_count": 27,
   "id": "64962b63",
   "metadata": {},
   "outputs": [],
   "source": [
    "def count_tracker_domains(directory):\n",
    "    tracker_domains = set()\n",
    "    dic = {}\n",
    "    for filename in os.listdir(directory):\n",
    "        if filename.endswith('.har'):\n",
    "            file_path = os.path.join(directory, filename)\n",
    "            file_path = file_path.replace(\"\\\\\", \"/\")\n",
    "            dic[filename] = 0\n",
    "            har_data = load_file(file_path)\n",
    "            main_title = har_data['log']['pages'][0]['title']\n",
    "            main_domain = extract_domain_info(main_title)\n",
    "            for entry in har_data['log']['entries']:\n",
    "                url = entry['request']['url']\n",
    "                domain = extract_domain_info(url)\n",
    "                if domain and domain != main_domain and domain not in tracker_domains and domain in disconnect_domains:\n",
    "                    tracker_domains.add(domain)\n",
    "                    dic[filename] += 1\n",
    "    return dic\n",
    "tracker_domain_allow = count_tracker_domains(directory_allow)\n",
    "tracker_domain_block = count_tracker_domains(directory_block)"
   ]
  },
  {
   "cell_type": "code",
   "execution_count": 28,
   "id": "e980942c",
   "metadata": {},
   "outputs": [
    {
     "data": {
      "text/plain": [
       "<Axes: xlabel='Type', ylabel='Number tracker_domain'>"
      ]
     },
     "execution_count": 28,
     "metadata": {},
     "output_type": "execute_result"
    },
    {
     "data": {
      "image/png": "[encoded data removed]",
      "text/plain": [
       "<Figure size 640x480 with 1 Axes>"
      ]
     },
     "metadata": {},
     "output_type": "display_data"
    }
   ],
   "source": [
    "df_tracker_domain_allow = pd.DataFrame.from_dict(tracker_domain_allow, orient='index', columns=['Number tracker_domain'])\n",
    "df_tracker_domain_allow['Type'] = 'Allow'\n",
    "df_tracker_domain_block = pd.DataFrame.from_dict(tracker_domain_block, orient='index', columns=['Number tracker_domain'])\n",
    "df_tracker_domain_block['Type'] = 'Block'\n",
    "df_tracker_domain = pd.concat([df_tracker_domain_allow, df_tracker_domain_block])\n",
    "sns.set_style(\"whitegrid\")\n",
    "sns.boxplot(x = 'Type', y = 'Number tracker_domain', data = df_tracker_domain)"
   ]
  },
  {
   "cell_type": "markdown",
   "id": "fe13f1f4",
   "metadata": {},
   "source": [
    "- Number of distinct third-party domains that set a cookie with SameSite=None and without the partitioned attribute"
   ]
  },
  {
   "cell_type": "code",
   "execution_count": 29,
   "id": "10dd2a23",
   "metadata": {},
   "outputs": [],
   "source": [
    "def count_same_site(directory):\n",
    "    third_party_domains = set()\n",
    "    dic = {}\n",
    "    for filename in os.listdir(directory):\n",
    "        if filename.endswith('.har'):\n",
    "            file_path = os.path.join(directory, filename)\n",
    "            file_path = file_path.replace(\"\\\\\", \"/\")\n",
    "            dic[filename] = 0\n",
    "            har_data = load_file(file_path)\n",
    "            main_title = har_data['log']['pages'][0]['title']\n",
    "            main_domain = extract_domain_info(main_title)\n",
    "            for entry in har_data['log']['entries']:\n",
    "                url = entry['request']['url']\n",
    "                domain = extract_domain_info(url)\n",
    "                if domain and domain != main_domain and domain not in third_party_domains:\n",
    "                    third_party_domains.add(domain)\n",
    "                    cookie_response = entry['response'].get('cookies', [])\n",
    "                    for cookie in cookie_response:\n",
    "                        if cookie.get('sameSite') == 'None':\n",
    "                            if not cookie.get('Set-Cookie') or 'Partitioned' not in cookie.get('Set-Cookie'):\n",
    "                                dic[filename] += 1\n",
    "    return dic\n",
    "same_site_allow = count_same_site(directory_allow)\n",
    "same_site_block = count_same_site(directory_block)"
   ]
  },
  {
   "cell_type": "code",
   "execution_count": 30,
   "id": "53d20db3",
   "metadata": {},
   "outputs": [
    {
     "data": {
      "text/plain": [
       "<Axes: xlabel='Type', ylabel='Number third-party'>"
      ]
     },
     "execution_count": 30,
     "metadata": {},
     "output_type": "execute_result"
    },
    {
     "data": {
      "image/png": "[encoded data removed]",
      "text/plain": [
       "<Figure size 640x480 with 1 Axes>"
      ]
     },
     "metadata": {},
     "output_type": "display_data"
    }
   ],
   "source": [
    "df_same_site_allow = pd.DataFrame.from_dict(same_site_allow, orient='index', columns=['Number third-party'])\n",
    "df_same_site_allow['Type'] = 'Allow'\n",
    "df_same_site_block = pd.DataFrame.from_dict(same_site_block, orient='index', columns=['Number third-party'])\n",
    "df_same_site_block['Type'] = 'Block'\n",
    "df_same_site = pd.concat([df_same_site_allow, df_same_site_block])\n",
    "sns.set_style(\"whitegrid\")\n",
    "sns.boxplot(x = 'Type', y = 'Number third-party', data = df_same_site)"
   ]
  },
  {
   "cell_type": "markdown",
   "id": "41164447",
   "metadata": {},
   "source": [
    "### Exercise 3\n"
   ]
  },
  {
   "cell_type": "code",
   "execution_count": 31,
   "id": "34d49ea1",
   "metadata": {},
   "outputs": [
    {
     "name": "stderr",
     "output_type": "stream",
     "text": [
      "/tmp/ipykernel_28731/1974999721.py:13: FutureWarning: DataFrame.applymap has been deprecated. Use DataFrame.map instead.\n",
      "  df = df.applymap(lambda x: f\"{x:.3f}\" if isinstance(x, float) else x)\n"
     ]
    },
    {
     "data": {
      "text/html": [
       "<div>\n",
       "<style scoped>\n",
       "    .dataframe tbody tr th:only-of-type {\n",
       "        vertical-align: middle;\n",
       "    }\n",
       "\n",
       "    .dataframe tbody tr th {\n",
       "        vertical-align: top;\n",
       "    }\n",
       "\n",
       "    .dataframe thead th {\n",
       "        text-align: right;\n",
       "    }\n",
       "</style>\n",
       "<table border=\"1\" class=\"dataframe\">\n",
       "  <thead>\n",
       "    <tr style=\"text-align: right;\">\n",
       "      <th></th>\n",
       "      <th>Metric</th>\n",
       "      <th>Crawl-allow Min</th>\n",
       "      <th>Crawl-allow Median</th>\n",
       "      <th>Crawl-allow Max</th>\n",
       "      <th>Crawl-block Min</th>\n",
       "      <th>Crawl-block Median</th>\n",
       "      <th>Crawl-block Max</th>\n",
       "    </tr>\n",
       "  </thead>\n",
       "  <tbody>\n",
       "    <tr>\n",
       "      <th>0</th>\n",
       "      <td>Page load time (s)</td>\n",
       "      <td>0.116</td>\n",
       "      <td>0.644</td>\n",
       "      <td>5.514</td>\n",
       "      <td>0.132</td>\n",
       "      <td>0.670</td>\n",
       "      <td>5.777</td>\n",
       "    </tr>\n",
       "    <tr>\n",
       "      <th>1</th>\n",
       "      <td>Number of requests</td>\n",
       "      <td>1.000</td>\n",
       "      <td>43.000</td>\n",
       "      <td>167.000</td>\n",
       "      <td>1.000</td>\n",
       "      <td>43.000</td>\n",
       "      <td>167.000</td>\n",
       "    </tr>\n",
       "    <tr>\n",
       "      <th>2</th>\n",
       "      <td>Distinct third party domains</td>\n",
       "      <td>0.000</td>\n",
       "      <td>2.000</td>\n",
       "      <td>7.000</td>\n",
       "      <td>0.000</td>\n",
       "      <td>2.000</td>\n",
       "      <td>7.000</td>\n",
       "    </tr>\n",
       "    <tr>\n",
       "      <th>3</th>\n",
       "      <td>Tracker domains</td>\n",
       "      <td>0.000</td>\n",
       "      <td>0.000</td>\n",
       "      <td>3.000</td>\n",
       "      <td>0.000</td>\n",
       "      <td>0.000</td>\n",
       "      <td>4.000</td>\n",
       "    </tr>\n",
       "    <tr>\n",
       "      <th>4</th>\n",
       "      <td>SameSite and Partitioned</td>\n",
       "      <td>0.000</td>\n",
       "      <td>0.000</td>\n",
       "      <td>3.000</td>\n",
       "      <td>0.000</td>\n",
       "      <td>0.000</td>\n",
       "      <td>3.000</td>\n",
       "    </tr>\n",
       "  </tbody>\n",
       "</table>\n",
       "</div>"
      ],
      "text/plain": [
       "                         Metric Crawl-allow Min Crawl-allow Median  \\\n",
       "0            Page load time (s)           0.116              0.644   \n",
       "1            Number of requests           1.000             43.000   \n",
       "2  Distinct third party domains           0.000              2.000   \n",
       "3               Tracker domains           0.000              0.000   \n",
       "4      SameSite and Partitioned           0.000              0.000   \n",
       "\n",
       "  Crawl-allow Max Crawl-block Min Crawl-block Median Crawl-block Max  \n",
       "0           5.514           0.132              0.670           5.777  \n",
       "1         167.000           1.000             43.000         167.000  \n",
       "2           7.000           0.000              2.000           7.000  \n",
       "3           3.000           0.000              0.000           4.000  \n",
       "4           3.000           0.000              0.000           3.000  "
      ]
     },
     "execution_count": 31,
     "metadata": {},
     "output_type": "execute_result"
    }
   ],
   "source": [
    "from statistics import median\n",
    "data = {\n",
    "    'Metric': ['Page load time (s)', 'Number of requests', 'Distinct third party domains', 'Tracker domains', 'SameSite and Partitioned'],\n",
    "    'Crawl-allow Min': [min(page_load_times_allow), min(requests_allow.values()), min(third_party_allow.values()),min(tracker_domain_allow.values()),min(same_site_allow.values())],\n",
    "    'Crawl-allow Median': [median(page_load_times_allow), median(requests_allow.values()),median(third_party_allow.values()),median(tracker_domain_allow.values()), median(same_site_allow.values())],\n",
    "    'Crawl-allow Max': [max(page_load_times_allow), max(requests_allow.values()),max(third_party_allow.values()), max(tracker_domain_allow.values()), max(same_site_allow.values())],\n",
    "    'Crawl-block Min': [min(page_load_times_block), min(requests_block.values()), min(third_party_block.values()), min(tracker_domain_block.values()),min(same_site_block.values())],  # Inserta tus propios datos aquí\n",
    "    'Crawl-block Median': [median(page_load_times_block), median(requests_block.values()),median(third_party_block.values()), median(tracker_domain_block.values()),median(same_site_block.values())],  # Inserta tus propios datos aquí\n",
    "    'Crawl-block Max': [max(page_load_times_block), max(requests_block.values()),max(third_party_block.values()),max(tracker_domain_block.values()), max(same_site_block.values())]  # Inserta tus propios datos aquí\n",
    "}\n",
    "\n",
    "df = pd.DataFrame(data)\n",
    "df = df.applymap(lambda x: f\"{x:.3f}\" if isinstance(x, float) else x)\n",
    "df\n"
   ]
  },
  {
   "cell_type": "markdown",
   "id": "9ac66bf1",
   "metadata": {},
   "source": [
    "### Exercise 4\n",
    "- should we make two separate tables or one with 20 rows?"
   ]
  },
  {
   "cell_type": "code",
   "execution_count": 32,
   "id": "6a62f7be",
   "metadata": {},
   "outputs": [],
   "source": [
    "def prevalent_third_party(directory):\n",
    "    websites_tracker_info = {}\n",
    "    for filename in os.listdir(directory):\n",
    "        if filename.endswith('.har'):\n",
    "            file_path = os.path.join(directory, filename)\n",
    "            file_path = file_path.replace(\"\\\\\", \"/\")\n",
    "            har_data = load_file(file_path)\n",
    "            main_title = har_data['log']['pages'][0]['title']\n",
    "            main_domain = extract_domain_info(main_title)\n",
    "            for entry in har_data['log']['entries']:\n",
    "                url = entry['request']['url']\n",
    "                domain = extract_domain_info(url)\n",
    "                if domain and domain != main_domain:\n",
    "                    if domain not in websites_tracker_info:\n",
    "                        websites_tracker_info[domain] = [1, 'Yes' if domain in disconnect_domains else 'No']\n",
    "                    else:\n",
    "                        websites_tracker_info[domain][0] += 1\n",
    "\n",
    "    return websites_tracker_info\n",
    "\n",
    "prevalent_allow = prevalent_third_party(directory_allow)\n",
    "prevalent_block = prevalent_third_party(directory_block)"
   ]
  },
  {
   "cell_type": "code",
   "execution_count": 33,
   "id": "70283f68",
   "metadata": {},
   "outputs": [
    {
     "data": {
      "text/html": [
       "<div>\n",
       "<style scoped>\n",
       "    .dataframe tbody tr th:only-of-type {\n",
       "        vertical-align: middle;\n",
       "    }\n",
       "\n",
       "    .dataframe tbody tr th {\n",
       "        vertical-align: top;\n",
       "    }\n",
       "\n",
       "    .dataframe thead th {\n",
       "        text-align: right;\n",
       "    }\n",
       "</style>\n",
       "<table border=\"1\" class=\"dataframe\">\n",
       "  <thead>\n",
       "    <tr style=\"text-align: right;\">\n",
       "      <th></th>\n",
       "      <th>Third-party domain</th>\n",
       "      <th>Number of distinct websites (Crawl-allow)</th>\n",
       "      <th>is Tracker?</th>\n",
       "    </tr>\n",
       "  </thead>\n",
       "  <tbody>\n",
       "    <tr>\n",
       "      <th>0</th>\n",
       "      <td>gelderland.nl</td>\n",
       "      <td>156</td>\n",
       "      <td>No</td>\n",
       "    </tr>\n",
       "    <tr>\n",
       "      <th>1</th>\n",
       "      <td>gov.nl</td>\n",
       "      <td>101</td>\n",
       "      <td>No</td>\n",
       "    </tr>\n",
       "    <tr>\n",
       "      <th>2</th>\n",
       "      <td>rotterdam.nl</td>\n",
       "      <td>78</td>\n",
       "      <td>No</td>\n",
       "    </tr>\n",
       "    <tr>\n",
       "      <th>3</th>\n",
       "      <td>limburg.nl</td>\n",
       "      <td>74</td>\n",
       "      <td>No</td>\n",
       "    </tr>\n",
       "    <tr>\n",
       "      <th>4</th>\n",
       "      <td>noord-holland.nl</td>\n",
       "      <td>65</td>\n",
       "      <td>No</td>\n",
       "    </tr>\n",
       "    <tr>\n",
       "      <th>5</th>\n",
       "      <td>amsterdam.nl</td>\n",
       "      <td>63</td>\n",
       "      <td>No</td>\n",
       "    </tr>\n",
       "    <tr>\n",
       "      <th>6</th>\n",
       "      <td>digid.nl</td>\n",
       "      <td>61</td>\n",
       "      <td>No</td>\n",
       "    </tr>\n",
       "    <tr>\n",
       "      <th>7</th>\n",
       "      <td>zuid-holland.nl</td>\n",
       "      <td>61</td>\n",
       "      <td>No</td>\n",
       "    </tr>\n",
       "    <tr>\n",
       "      <th>8</th>\n",
       "      <td>rvo.nl</td>\n",
       "      <td>56</td>\n",
       "      <td>No</td>\n",
       "    </tr>\n",
       "    <tr>\n",
       "      <th>9</th>\n",
       "      <td>rijksoverheid.nl</td>\n",
       "      <td>54</td>\n",
       "      <td>No</td>\n",
       "    </tr>\n",
       "  </tbody>\n",
       "</table>\n",
       "</div>"
      ],
      "text/plain": [
       "  Third-party domain  Number of distinct websites (Crawl-allow) is Tracker?\n",
       "0      gelderland.nl                                        156          No\n",
       "1             gov.nl                                        101          No\n",
       "2       rotterdam.nl                                         78          No\n",
       "3         limburg.nl                                         74          No\n",
       "4   noord-holland.nl                                         65          No\n",
       "5       amsterdam.nl                                         63          No\n",
       "6           digid.nl                                         61          No\n",
       "7    zuid-holland.nl                                         61          No\n",
       "8             rvo.nl                                         56          No\n",
       "9   rijksoverheid.nl                                         54          No"
      ]
     },
     "execution_count": 33,
     "metadata": {},
     "output_type": "execute_result"
    }
   ],
   "source": [
    "prevalent_allow = dict(sorted(prevalent_allow.items(), key=lambda x: x[1][0], reverse=True)[:10])\n",
    "values_list = list(prevalent_allow.values())\n",
    "data = {\n",
    "    'Third-party domain': list(prevalent_allow.keys()),\n",
    "    'Number of distinct websites (Crawl-allow)': [x[0] for x in values_list],\n",
    "    'is Tracker?': [x[1] for x in values_list]}\n",
    "pd.DataFrame(data)"
   ]
  },
  {
   "cell_type": "code",
   "execution_count": 34,
   "id": "9e590d12",
   "metadata": {},
   "outputs": [
    {
     "data": {
      "text/html": [
       "<div>\n",
       "<style scoped>\n",
       "    .dataframe tbody tr th:only-of-type {\n",
       "        vertical-align: middle;\n",
       "    }\n",
       "\n",
       "    .dataframe tbody tr th {\n",
       "        vertical-align: top;\n",
       "    }\n",
       "\n",
       "    .dataframe thead th {\n",
       "        text-align: right;\n",
       "    }\n",
       "</style>\n",
       "<table border=\"1\" class=\"dataframe\">\n",
       "  <thead>\n",
       "    <tr style=\"text-align: right;\">\n",
       "      <th></th>\n",
       "      <th>Third-party domain</th>\n",
       "      <th>Number of distinct websites (Crawl-block)</th>\n",
       "      <th>is Tracker?</th>\n",
       "    </tr>\n",
       "  </thead>\n",
       "  <tbody>\n",
       "    <tr>\n",
       "      <th>0</th>\n",
       "      <td>gelderland.nl</td>\n",
       "      <td>156</td>\n",
       "      <td>No</td>\n",
       "    </tr>\n",
       "    <tr>\n",
       "      <th>1</th>\n",
       "      <td>gov.nl</td>\n",
       "      <td>101</td>\n",
       "      <td>No</td>\n",
       "    </tr>\n",
       "    <tr>\n",
       "      <th>2</th>\n",
       "      <td>rotterdam.nl</td>\n",
       "      <td>78</td>\n",
       "      <td>No</td>\n",
       "    </tr>\n",
       "    <tr>\n",
       "      <th>3</th>\n",
       "      <td>limburg.nl</td>\n",
       "      <td>74</td>\n",
       "      <td>No</td>\n",
       "    </tr>\n",
       "    <tr>\n",
       "      <th>4</th>\n",
       "      <td>zuid-holland.nl</td>\n",
       "      <td>67</td>\n",
       "      <td>No</td>\n",
       "    </tr>\n",
       "    <tr>\n",
       "      <th>5</th>\n",
       "      <td>noord-holland.nl</td>\n",
       "      <td>65</td>\n",
       "      <td>No</td>\n",
       "    </tr>\n",
       "    <tr>\n",
       "      <th>6</th>\n",
       "      <td>amsterdam.nl</td>\n",
       "      <td>63</td>\n",
       "      <td>No</td>\n",
       "    </tr>\n",
       "    <tr>\n",
       "      <th>7</th>\n",
       "      <td>digid.nl</td>\n",
       "      <td>62</td>\n",
       "      <td>No</td>\n",
       "    </tr>\n",
       "    <tr>\n",
       "      <th>8</th>\n",
       "      <td>rvo.nl</td>\n",
       "      <td>56</td>\n",
       "      <td>No</td>\n",
       "    </tr>\n",
       "    <tr>\n",
       "      <th>9</th>\n",
       "      <td>rijksoverheid.nl</td>\n",
       "      <td>55</td>\n",
       "      <td>No</td>\n",
       "    </tr>\n",
       "  </tbody>\n",
       "</table>\n",
       "</div>"
      ],
      "text/plain": [
       "  Third-party domain  Number of distinct websites (Crawl-block) is Tracker?\n",
       "0      gelderland.nl                                        156          No\n",
       "1             gov.nl                                        101          No\n",
       "2       rotterdam.nl                                         78          No\n",
       "3         limburg.nl                                         74          No\n",
       "4    zuid-holland.nl                                         67          No\n",
       "5   noord-holland.nl                                         65          No\n",
       "6       amsterdam.nl                                         63          No\n",
       "7           digid.nl                                         62          No\n",
       "8             rvo.nl                                         56          No\n",
       "9   rijksoverheid.nl                                         55          No"
      ]
     },
     "execution_count": 34,
     "metadata": {},
     "output_type": "execute_result"
    }
   ],
   "source": [
    "prevalent_block = dict(sorted(prevalent_block.items(), key=lambda x: x[1][0], reverse=True)[:10])\n",
    "values_list = list(prevalent_block.values())\n",
    "data = {\n",
    "    'Third-party domain': list(prevalent_block.keys()),\n",
    "    'Number of distinct websites (Crawl-block)': [x[0] for x in values_list],\n",
    "    'is Tracker?': [x[1] for x in values_list]}\n",
    "pd.DataFrame(data)"
   ]
  },
  {
   "cell_type": "markdown",
   "id": "009ef956",
   "metadata": {},
   "source": [
    "### Exercise 5"
   ]
  },
  {
   "cell_type": "code",
   "execution_count": 35,
   "id": "3eb1ce27",
   "metadata": {},
   "outputs": [],
   "source": [
    "def frequency_methods(directory):\n",
    "    frequency_methods = {}\n",
    "    for filename in os.listdir(directory):\n",
    "        if filename.endswith('.har'):\n",
    "            file_path = os.path.join(directory, filename)\n",
    "            file_path = file_path.replace(\"\\\\\", \"/\")\n",
    "            har_data = load_file(file_path)\n",
    "            for entry in har_data['log']['entries']:\n",
    "                headers_request = entry['request']\n",
    "                method = headers_request.get(\"method\")\n",
    "                if method not in frequency_methods:\n",
    "                    frequency_methods[method] = 1\n",
    "                else:\n",
    "                    frequency_methods[method] += 1\n",
    "    return frequency_methods\n",
    "\n",
    "frequency_methods_allow = frequency_methods(directory_allow)\n",
    "frequency_methods_block = frequency_methods(directory_block)"
   ]
  },
  {
   "cell_type": "code",
   "execution_count": 36,
   "id": "5427689e",
   "metadata": {},
   "outputs": [
    {
     "data": {
      "text/html": [
       "<div>\n",
       "<style scoped>\n",
       "    .dataframe tbody tr th:only-of-type {\n",
       "        vertical-align: middle;\n",
       "    }\n",
       "\n",
       "    .dataframe tbody tr th {\n",
       "        vertical-align: top;\n",
       "    }\n",
       "\n",
       "    .dataframe thead th {\n",
       "        text-align: right;\n",
       "    }\n",
       "</style>\n",
       "<table border=\"1\" class=\"dataframe\">\n",
       "  <thead>\n",
       "    <tr style=\"text-align: right;\">\n",
       "      <th></th>\n",
       "      <th>HTTP Method</th>\n",
       "      <th>Number of requests with method: Crawl-Allow</th>\n",
       "      <th>Number of requests with method: Crawl-Block</th>\n",
       "    </tr>\n",
       "  </thead>\n",
       "  <tbody>\n",
       "    <tr>\n",
       "      <th>0</th>\n",
       "      <td>GET</td>\n",
       "      <td>2204</td>\n",
       "      <td>2214</td>\n",
       "    </tr>\n",
       "    <tr>\n",
       "      <th>1</th>\n",
       "      <td>POST</td>\n",
       "      <td>118</td>\n",
       "      <td>107</td>\n",
       "    </tr>\n",
       "    <tr>\n",
       "      <th>2</th>\n",
       "      <td>HEAD</td>\n",
       "      <td>1</td>\n",
       "      <td>1</td>\n",
       "    </tr>\n",
       "  </tbody>\n",
       "</table>\n",
       "</div>"
      ],
      "text/plain": [
       "  HTTP Method  Number of requests with method: Crawl-Allow  \\\n",
       "0         GET                                         2204   \n",
       "1        POST                                          118   \n",
       "2        HEAD                                            1   \n",
       "\n",
       "   Number of requests with method: Crawl-Block  \n",
       "0                                         2214  \n",
       "1                                          107  \n",
       "2                                            1  "
      ]
     },
     "execution_count": 36,
     "metadata": {},
     "output_type": "execute_result"
    }
   ],
   "source": [
    "data = {\n",
    "    'HTTP Method': ['GET', 'POST', 'HEAD'],\n",
    "    'Number of requests with method: Crawl-Allow': [frequency_methods_allow['GET'], frequency_methods_allow['POST'],frequency_methods_allow['HEAD']],\n",
    "    'Number of requests with method: Crawl-Block': [frequency_methods_block['GET'], frequency_methods_block['POST'], frequency_methods_block['HEAD']]\n",
    "}\n",
    "data\n",
    "pd.DataFrame(data)"
   ]
  },
  {
   "cell_type": "markdown",
   "id": "db03d57e",
   "metadata": {},
   "source": [
    "### Exercise 6"
   ]
  },
  {
   "cell_type": "code",
   "execution_count": 37,
   "id": "f7c2900f",
   "metadata": {},
   "outputs": [
    {
     "ename": "NameError",
     "evalue": "name 'har_data' is not defined",
     "output_type": "error",
     "traceback": [
      "\u001b[0;31m---------------------------------------------------------------------------\u001b[0m",
      "\u001b[0;31mNameError\u001b[0m                                 Traceback (most recent call last)",
      "Cell \u001b[0;32mIn[37], line 1\u001b[0m\n\u001b[0;32m----> 1\u001b[0m \u001b[43mhar_data\u001b[49m[\u001b[38;5;124m'\u001b[39m\u001b[38;5;124mlog\u001b[39m\u001b[38;5;124m'\u001b[39m][\u001b[38;5;124m'\u001b[39m\u001b[38;5;124mentries\u001b[39m\u001b[38;5;124m'\u001b[39m][\u001b[38;5;241m0\u001b[39m][\u001b[38;5;124m'\u001b[39m\u001b[38;5;124mrequest\u001b[39m\u001b[38;5;124m'\u001b[39m][\u001b[38;5;124m'\u001b[39m\u001b[38;5;124murl\u001b[39m\u001b[38;5;124m'\u001b[39m]\n",
      "\u001b[0;31mNameError\u001b[0m: name 'har_data' is not defined"
     ]
    }
   ],
   "source": [
    "# har_data['log']['entries'][0]['request']['url']"
   ]
  },
  {
   "cell_type": "code",
   "execution_count": 38,
   "id": "c2f85bfd",
   "metadata": {},
   "outputs": [],
   "source": [
    "def analyze_permissions(directory):\n",
    "    permissions_lists = {\n",
    "        \"Crawl-allow_camera\": [],\n",
    "        \"Crawl-allow_geolocation\": [],\n",
    "        \"Crawl-allow_microphone\": [],\n",
    "        \"Crawl-block_camera\": [],\n",
    "        \"Crawl-block_geolocation\": [],\n",
    "        \"Crawl-block_microphone\": []\n",
    "    }\n",
    "\n",
    "    for filename in os.listdir(directory):\n",
    "        if filename.endswith('.har'):\n",
    "            file_path = os.path.join(directory, filename)\n",
    "            file_path = file_path.replace(\"\\\\\", \"/\")\n",
    "            har_data = load_file(file_path)\n",
    "            for entry in har_data['log']['entries']:\n",
    "                response_headers = entry['response']['headers']\n",
    "                permissions_policy = None\n",
    "                for header in response_headers:\n",
    "                    if header['name'] == 'Permissions-Policy':\n",
    "                        permissions_policy = header['value']\n",
    "                        break\n",
    "                if permissions_policy:\n",
    "                    website = entry['request']['url']\n",
    "                    if \"camera=()\" in permissions_policy:\n",
    "                        if \"crawl-allow\" in filename:\n",
    "                            permissions_lists[\"Crawl-allow_camera\"].append(website)\n",
    "                        else:\n",
    "                            permissions_lists[\"Crawl-block_camera\"].append(website)\n",
    "                    if \"geolocation=()\" in permissions_policy:\n",
    "                        if \"crawl-allow\" in filename:\n",
    "                            permissions_lists[\"Crawl-allow_geolocation\"].append(website)\n",
    "                        else:\n",
    "                            permissions_lists[\"Crawl-block_geolocation\"].append(website)\n",
    "                    if \"microphone=()\" in permissions_policy:\n",
    "                        if \"crawl-allow\" in filename:\n",
    "                            permissions_lists[\"Crawl-allow_microphone\"].append(website)\n",
    "                        else:\n",
    "                            permissions_lists[\"Crawl-block_microphone\"].append(website)\n",
    "\n",
    "    return permissions_lists\n",
    "analyze_permissions = analyze_permissions(directory_allow)"
   ]
  },
  {
   "cell_type": "code",
   "execution_count": 39,
   "id": "f6c46d50",
   "metadata": {},
   "outputs": [
    {
     "data": {
      "text/plain": [
       "{'Crawl-allow_camera': [],\n",
       " 'Crawl-allow_geolocation': [],\n",
       " 'Crawl-allow_microphone': [],\n",
       " 'Crawl-block_camera': ['https://www.nwo.nl/',\n",
       "  'https://www.nwo.nl/calamity/check',\n",
       "  'https://www.nwo.nl/cookies/consent/callback.json'],\n",
       " 'Crawl-block_geolocation': ['https://www.nwo.nl/',\n",
       "  'https://www.nwo.nl/calamity/check',\n",
       "  'https://www.nwo.nl/cookies/consent/callback.json'],\n",
       " 'Crawl-block_microphone': ['https://www.nwo.nl/',\n",
       "  'https://www.nwo.nl/calamity/check',\n",
       "  'https://www.nwo.nl/cookies/consent/callback.json']}"
      ]
     },
     "execution_count": 39,
     "metadata": {},
     "output_type": "execute_result"
    }
   ],
   "source": [
    "analyze_permissions"
   ]
  },
  {
   "cell_type": "markdown",
   "id": "b0c72c82",
   "metadata": {},
   "source": [
    "### Exercise 7"
   ]
  },
  {
   "cell_type": "code",
   "execution_count": 40,
   "id": "bf0725b6",
   "metadata": {},
   "outputs": [],
   "source": [
    "import os\n",
    "from collections import defaultdict\n",
    "\n",
    "def analyze_referrer_policy(directory):\n",
    "    no_referrer_sites = set()\n",
    "    unsafe_url_sites = set()\n",
    "\n",
    "    for filename in os.listdir(directory):\n",
    "        if filename.endswith('.har'):\n",
    "            file_path = os.path.join(directory, filename)\n",
    "            file_path = file_path.replace(\"\\\\\", \"/\")\n",
    "            har_data = load_file(file_path)\n",
    "            for entry in har_data['log']['entries']:\n",
    "                response_headers = entry['response']['headers']\n",
    "                url = entry['request']['url']\n",
    "                # Extract Referrer-Policy headers\n",
    "                for header in response_headers:\n",
    "                    if header['name'].lower() == 'referrer-policy':\n",
    "                        policy_value = header['value'].strip().lower()\n",
    "                        # Check for no-referrer and unsafe-url values\n",
    "                        if policy_value == 'no-referrer':\n",
    "                            no_referrer_sites.add(har_data['log']['entries'][0]['request']['url'])\n",
    "                        elif policy_value == 'unsafe-url':\n",
    "                            unsafe_url_sites.add(har_data['log']['entries'][0]['request']['url'])\n",
    "\n",
    "    return no_referrer_sites, unsafe_url_sites\n",
    "\n",
    "no_referrer_sites_allow, unsafe_url_sites_allow = analyze_referrer_policy(directory_allow)\n",
    "no_referrer_sites_block, unsafe_url_sites_block = analyze_referrer_policy(directory_block)"
   ]
  },
  {
   "cell_type": "code",
   "execution_count": 41,
   "id": "bfeca1b6",
   "metadata": {},
   "outputs": [
    {
     "name": "stdout",
     "output_type": "stream",
     "text": [
      "No referrer sites allow: {'https://www.digid.nl/', 'https://www.noord-holland.nl/', 'https://www.werk.nl/', 'https://www.studyinnl.org/', 'https://ind.nl/', 'https://www.provinciegroningen.nl/', 'https://business.gov.nl/', 'https://www.gelderland.nl/', 'https://www.denhaag.nl/'}\n",
      "Unsafe url sites allow: {'https://www.utrecht.nl/'}\n",
      "No referrer sites block: {'https://www.digid.nl/', 'https://www.noord-holland.nl/', 'https://www.werk.nl/', 'https://www.studyinnl.org/', 'https://business.gov.nl/', 'https://www.provinciegroningen.nl/', 'https://www.gelderland.nl/', 'https://ind.nl/', 'https://www.denhaag.nl/'}\n",
      "Unsafe url sites allow: {'https://www.utrecht.nl/'}\n"
     ]
    }
   ],
   "source": [
    "print(\"No referrer sites allow:\", no_referrer_sites_allow)\n",
    "print(\"Unsafe url sites allow:\", unsafe_url_sites_allow)\n",
    "print(\"No referrer sites block:\", no_referrer_sites_block)\n",
    "print(\"Unsafe url sites allow:\", unsafe_url_sites_allow)"
   ]
  },
  {
   "cell_type": "code",
   "execution_count": null,
   "id": "55714be7",
   "metadata": {},
   "outputs": [],
   "source": []
  }
 ],
 "metadata": {
  "kernelspec": {
   "display_name": "Python 3 (ipykernel)",
   "language": "python",
   "name": "python3"
  },
  "language_info": {
   "codemirror_mode": {
    "name": "ipython",
    "version": 3
   },
   "file_extension": ".py",
   "mimetype": "text/x-python",
   "name": "python",
   "nbconvert_exporter": "python",
   "pygments_lexer": "ipython3",
   "version": "3.11.8"
  }
 },
 "nbformat": 4,
 "nbformat_minor": 5
}
