{
 "cells": [
  {
   "cell_type": "markdown",
   "id": "66f4ed4c",
   "metadata": {},
   "source": [
    "\n",
    "<h1 align=\"center\">Assignment 2</h1>\n",
    "<h3 style=\"display:block; margin-top:5px;\" align=\"center\">Online Tracking and Privacy</h3>    \n",
    "<br>"
   ]
  },
  {
   "cell_type": "code",
   "execution_count": 2,
   "id": "7b720384",
   "metadata": {},
   "outputs": [],
   "source": [
    "import os\n",
    "from collections import defaultdict\n",
    "import seaborn as sns\n",
    "import pandas as pd\n",
    "import json\n",
    "import tldextract\n",
    "from datetime import datetime"
   ]
  },
  {
   "cell_type": "code",
   "execution_count": 78,
   "id": "26dc0e4f",
   "metadata": {},
   "outputs": [],
   "source": [
    "\"\"\"\n",
    "This function loads the har files obtained from the website\n",
    "\"\"\"\n",
    "def load_file(path):\n",
    "    with open(path, 'r', encoding='utf-8') as file:\n",
    "        return json.load(file)\n",
    "\n",
    "\"\"\"\n",
    "This function obtains the domains of the urls.\n",
    "\"\"\"\n",
    "def extract_domain_info(url):\n",
    "    domain_info = tldextract.extract(url)\n",
    "    return domain_info.registered_domain\n",
    "\n",
    "\"\"\"\n",
    "This function obtains the entity_name of the organization that owns the domain names of the request urls\n",
    "\"\"\"\n",
    "def extract_entity_name(domain, entity_map):\n",
    "    domain_info = tldextract.extract(domain)\n",
    "    registered_domain = domain_info.registered_domain\n",
    "    return entity_map.get(registered_domain, {\"entityName\": \"Unknown\"})[\"entityName\"]\n",
    "\n",
    "\"\"\"\n",
    "Load in all the har files.\n",
    "\"\"\"\n",
    "def load_har_files(directory):\n",
    "    hars_data = []\n",
    "    for filename in os.listdir(directory):\n",
    "        if filename.endswith('.har'):\n",
    "            file_path = os.path.join(directory, filename)\n",
    "            file_path = file_path.replace(\"\\\\\", \"/\")\n",
    "\n",
    "            har_data = load_file(file_path)\n",
    "            hars_data.append(har_data)\n",
    "\n",
    "    return hars_data\n",
    "\n",
    "\n",
    "\"\"\"\n",
    "Load disconnect's block list domains\n",
    "\"\"\"\n",
    "def load_block_list():\n",
    "    with open(\"../utils/services.json\", \"r\", encoding=\"utf-8\") as f:\n",
    "        blocklist_data = json.load(f)\n",
    "\n",
    "    block_list = []\n",
    "\n",
    "    for category_name, category_data in blocklist_data['categories'].items():\n",
    "        for entry in category_data:\n",
    "            for _company_name, domains in entry.items():\n",
    "                for _domain, block_domains in domains.items():\n",
    "                    if isinstance(block_domains, list):\n",
    "                        block_list.extend(block_domains)\n",
    "\n",
    "    return list(set(block_list))"
   ]
  },
  {
   "cell_type": "code",
   "execution_count": 79,
   "id": "d7d7f77b",
   "metadata": {},
   "outputs": [],
   "source": [
    "# Open document with the statistics of the crawler\n",
    "stats = load_file(\"../analysis/stats-2024-04-10 06:39:16.228163.json\")\n",
    "\n",
    "# Load in all the har files\n",
    "hars_allow = load_har_files('../crawl_data_allow')\n",
    "hars_block = load_har_files('../crawl_data_block')\n",
    "\n",
    "disconnect_domains = load_block_list()"
   ]
  },
  {
   "cell_type": "markdown",
   "id": "19c4427c",
   "metadata": {},
   "source": [
    "### Exercise 1"
   ]
  },
  {
   "cell_type": "code",
   "execution_count": 80,
   "id": "10956b96",
   "metadata": {},
   "outputs": [
    {
     "data": {
      "text/html": [
       "<div>\n",
       "<style scoped>\n",
       "    .dataframe tbody tr th:only-of-type {\n",
       "        vertical-align: middle;\n",
       "    }\n",
       "\n",
       "    .dataframe tbody tr th {\n",
       "        vertical-align: top;\n",
       "    }\n",
       "\n",
       "    .dataframe thead th {\n",
       "        text-align: right;\n",
       "    }\n",
       "</style>\n",
       "<table border=\"1\" class=\"dataframe\">\n",
       "  <thead>\n",
       "    <tr style=\"text-align: right;\">\n",
       "      <th></th>\n",
       "      <th>Error type</th>\n",
       "      <th>Crawl-Accept</th>\n",
       "      <th>Crawl-Block</th>\n",
       "    </tr>\n",
       "  </thead>\n",
       "  <tbody>\n",
       "    <tr>\n",
       "      <th>0</th>\n",
       "      <td>Page load timeout</td>\n",
       "      <td>8</td>\n",
       "      <td>7</td>\n",
       "    </tr>\n",
       "    <tr>\n",
       "      <th>1</th>\n",
       "      <td>Consent click failure</td>\n",
       "      <td>28</td>\n",
       "      <td>30</td>\n",
       "    </tr>\n",
       "  </tbody>\n",
       "</table>\n",
       "</div>"
      ],
      "text/plain": [
       "              Error type  Crawl-Accept  Crawl-Block\n",
       "0      Page load timeout             8            7\n",
       "1  Consent click failure            28           30"
      ]
     },
     "execution_count": 80,
     "metadata": {},
     "output_type": "execute_result"
    }
   ],
   "source": [
    "data = {\n",
    "    'Error type': ['Page load timeout', 'Consent click failure'],\n",
    "    'Crawl-Accept': [len(stats['page_load_timeout_allow']), len(stats['consent_click_failure_allow'])],\n",
    "    'Crawl-Block': [len(stats['page_load_timeout_block']), len(stats['consent_click_failure_block']) ]\n",
    "}\n",
    "pd.DataFrame(data)"
   ]
  },
  {
   "cell_type": "markdown",
   "id": "016be6c5",
   "metadata": {},
   "source": [
    "## Exercise 2"
   ]
  },
  {
   "cell_type": "markdown",
   "id": "dd0cc55e",
   "metadata": {},
   "source": [
    "- Page load time"
   ]
  },
  {
   "cell_type": "code",
   "execution_count": 81,
   "id": "9666f9d9",
   "metadata": {},
   "outputs": [],
   "source": [
    "page_load_times_allow = [(url_time['page_load_time'], 'Allow') for url_time in stats[\"page_load_times_allow\"]]\n",
    "page_load_times_block = [(url_time['page_load_time'], 'Block') for url_time in stats[\"page_load_times_block\"]]"
   ]
  },
  {
   "cell_type": "code",
   "execution_count": 82,
   "id": "623d57eb",
   "metadata": {},
   "outputs": [
    {
     "data": {
      "text/plain": [
       "<Axes: xlabel='Crawl Type', ylabel='Page load time'>"
      ]
     },
     "execution_count": 82,
     "metadata": {},
     "output_type": "execute_result"
    },
    {
     "data": {
      "image/png": "[encoded data removed]",
      "text/plain": [
       "<Figure size 640x480 with 1 Axes>"
      ]
     },
     "metadata": {},
     "output_type": "display_data"
    }
   ],
   "source": [
    "df_page_load_times = pd.DataFrame(page_load_times_allow + page_load_times_block, columns=['Page load time', 'Crawl Type'])\n",
    "sns.set_style(\"whitegrid\")\n",
    "sns.boxplot(x = 'Crawl Type', y = 'Page load time', data = df_page_load_times)"
   ]
  },
  {
   "cell_type": "markdown",
   "id": "d7fa010c",
   "metadata": {},
   "source": [
    "- Number of requests"
   ]
  },
  {
   "cell_type": "code",
   "execution_count": 83,
   "id": "37117bb1",
   "metadata": {},
   "outputs": [],
   "source": [
    "def gather_data(func_har, y_label):\n",
    "    allow = [(count, 'Allow') for count in func_har(hars_allow)]\n",
    "    block = [(count, 'Block') for count in func_har(hars_block)]\n",
    "    return pd.DataFrame(allow + block, columns=[y_label, 'Crawl Type'])"
   ]
  },
  {
   "cell_type": "code",
   "execution_count": 84,
   "id": "32c8406d",
   "metadata": {},
   "outputs": [],
   "source": [
    "def count_requests(hars):\n",
    "    return [len(har['log']['entries']) for har in hars]"
   ]
  },
  {
   "cell_type": "code",
   "execution_count": 85,
   "id": "939eeb03",
   "metadata": {},
   "outputs": [
    {
     "data": {
      "text/plain": [
       "<Axes: xlabel='Crawl Type', ylabel='Number of requests'>"
      ]
     },
     "execution_count": 85,
     "metadata": {},
     "output_type": "execute_result"
    },
    {
     "data": {
      "image/png": "[encoded data removed]",
      "text/plain": [
       "<Figure size 640x480 with 1 Axes>"
      ]
     },
     "metadata": {},
     "output_type": "display_data"
    }
   ],
   "source": [
    "df_number_requests = gather_data(count_requests, 'Number of requests')\n",
    "sns.set_style(\"whitegrid\")\n",
    "sns.boxplot(x = 'Crawl Type', y = 'Number of requests', data = df_number_requests)"
   ]
  },
  {
   "cell_type": "markdown",
   "id": "419c73ed",
   "metadata": {},
   "source": [
    "- Numbers of distincs third party domains"
   ]
  },
  {
   "cell_type": "code",
   "execution_count": 92,
   "id": "357132ff",
   "metadata": {},
   "outputs": [],
   "source": [
    "def count_third_party(hars):\n",
    "    third_party_counts = []\n",
    "\n",
    "    for har in hars:\n",
    "        main_url = har['log']['entries'][0]['request']['url']\n",
    "        main_domain = extract_domain_info(main_url)\n",
    "\n",
    "        third_party_domains = set()\n",
    "\n",
    "        for entry in har['log']['entries'][1:]:\n",
    "            url = entry['request']['url']\n",
    "            domain = extract_domain_info(url)\n",
    "\n",
    "            # blocked by block list\n",
    "            if entry['response']['status'] == -1:\n",
    "                continue\n",
    "\n",
    "            if domain and domain != main_domain:\n",
    "                third_party_domains.add(domain)\n",
    "\n",
    "        third_party_counts.append(len(third_party_domains))\n",
    "\n",
    "    return third_party_counts"
   ]
  },
  {
   "cell_type": "code",
   "execution_count": 93,
   "id": "ccd83553",
   "metadata": {},
   "outputs": [
    {
     "data": {
      "text/plain": [
       "<Axes: xlabel='Crawl Type', ylabel='Number of distinct third-party domains'>"
      ]
     },
     "execution_count": 93,
     "metadata": {},
     "output_type": "execute_result"
    },
    {
     "data": {
      "image/png": "[encoded data removed]",
      "text/plain": [
       "<Figure size 640x480 with 1 Axes>"
      ]
     },
     "metadata": {},
     "output_type": "display_data"
    }
   ],
   "source": [
    "df_third_party = gather_data(count_third_party, 'Number of distinct third-party domains')\n",
    "sns.set_style(\"whitegrid\")\n",
    "sns.boxplot(x = 'Crawl Type', y = 'Number of distinct third-party domains', data = df_third_party)"
   ]
  },
  {
   "cell_type": "markdown",
   "id": "bfac211a",
   "metadata": {},
   "source": [
    "- Number of distinct tracker domains\n"
   ]
  },
  {
   "cell_type": "code",
   "execution_count": 94,
   "id": "64962b63",
   "metadata": {},
   "outputs": [],
   "source": [
    "def count_tracker_domains(hars):\n",
    "    tracker_counts = []\n",
    "\n",
    "    for har in hars:\n",
    "        main_url = har['log']['entries'][0]['request']['url']\n",
    "        main_domain = extract_domain_info(main_url)\n",
    "\n",
    "        tracker_domains = set()\n",
    "\n",
    "        for entry in har['log']['entries'][1:]:\n",
    "            url = entry['request']['url']\n",
    "            domain = extract_domain_info(url)\n",
    "\n",
    "            # blocked by block list\n",
    "            if entry['response']['status'] == -1:\n",
    "                continue\n",
    "\n",
    "            if domain and domain != main_domain and domain in disconnect_domains:\n",
    "                tracker_domains.add(domain)\n",
    "\n",
    "        tracker_counts.append(len(tracker_domains))\n",
    "\n",
    "    return tracker_counts"
   ]
  },
  {
   "cell_type": "code",
   "execution_count": 95,
   "id": "e980942c",
   "metadata": {},
   "outputs": [
    {
     "data": {
      "text/plain": [
       "<Axes: xlabel='Crawl Type', ylabel='Number of distinct tracker domains'>"
      ]
     },
     "execution_count": 95,
     "metadata": {},
     "output_type": "execute_result"
    },
    {
     "data": {
      "image/png": "[encoded data removed]",
      "text/plain": [
       "<Figure size 640x480 with 1 Axes>"
      ]
     },
     "metadata": {},
     "output_type": "display_data"
    }
   ],
   "source": [
    "df_tracker_domain = gather_data(count_tracker_domains, 'Number of distinct tracker domains')\n",
    "sns.set_style(\"whitegrid\")\n",
    "sns.boxplot(x = 'Crawl Type', y = 'Number of distinct tracker domains', data = df_tracker_domain)"
   ]
  },
  {
   "cell_type": "markdown",
   "id": "fe13f1f4",
   "metadata": {},
   "source": [
    "- Number of distinct third-party domains that set a cookie with SameSite=None and without the partitioned attribute"
   ]
  },
  {
   "cell_type": "code",
   "execution_count": 96,
   "id": "10dd2a23",
   "metadata": {},
   "outputs": [],
   "source": [
    "def count_same_site(hars):\n",
    "    third_party_counts = []\n",
    "\n",
    "    for har in hars:\n",
    "        main_url = har['log']['entries'][0]['request']['url']\n",
    "        main_domain = extract_domain_info(main_url)\n",
    "\n",
    "        third_party_domains = set()\n",
    "\n",
    "        for entry in har['log']['entries'][1:]:\n",
    "            url = entry['request']['url']\n",
    "            domain = extract_domain_info(url)\n",
    "\n",
    "            # blocked by block list\n",
    "            if entry['response']['status'] == -1:\n",
    "                continue\n",
    "\n",
    "            if domain and domain != main_domain:\n",
    "                cookie_response = entry['response'].get('cookies', [])\n",
    "                for cookie in cookie_response:\n",
    "                    if not cookie.get('Partitioned') and cookie.get('sameSite') == 'None':\n",
    "                        third_party_domains.add(domain)\n",
    "\n",
    "        third_party_counts.append(len(third_party_domains))\n",
    "\n",
    "    return third_party_counts"
   ]
  },
  {
   "cell_type": "code",
   "execution_count": 97,
   "id": "53d20db3",
   "metadata": {},
   "outputs": [
    {
     "data": {
      "text/plain": [
       "<Axes: xlabel='Crawl Type', ylabel='Number of distinct third-party domains with cookie'>"
      ]
     },
     "execution_count": 97,
     "metadata": {},
     "output_type": "execute_result"
    },
    {
     "data": {
      "image/png": "[encoded data removed]",
      "text/plain": [
       "<Figure size 640x480 with 1 Axes>"
      ]
     },
     "metadata": {},
     "output_type": "display_data"
    }
   ],
   "source": [
    "df_same_site = gather_data(count_same_site, 'Number of distinct third-party domains with cookie')\n",
    "sns.set_style(\"whitegrid\")\n",
    "sns.boxplot(x = 'Crawl Type', y = 'Number of distinct third-party domains with cookie', data = df_same_site)"
   ]
  },
  {
   "cell_type": "markdown",
   "id": "41164447",
   "metadata": {},
   "source": [
    "### Exercise 3\n"
   ]
  },
  {
   "cell_type": "code",
   "execution_count": 114,
   "id": "34d49ea1",
   "metadata": {},
   "outputs": [
    {
     "data": {
      "text/html": [
       "<div>\n",
       "<style scoped>\n",
       "    .dataframe tbody tr th:only-of-type {\n",
       "        vertical-align: middle;\n",
       "    }\n",
       "\n",
       "    .dataframe tbody tr th {\n",
       "        vertical-align: top;\n",
       "    }\n",
       "\n",
       "    .dataframe thead th {\n",
       "        text-align: right;\n",
       "    }\n",
       "</style>\n",
       "<table border=\"1\" class=\"dataframe\">\n",
       "  <thead>\n",
       "    <tr style=\"text-align: right;\">\n",
       "      <th></th>\n",
       "      <th>Metric</th>\n",
       "      <th>Allow min</th>\n",
       "      <th>Allow median</th>\n",
       "      <th>Allow max</th>\n",
       "      <th>Block min</th>\n",
       "      <th>Block median</th>\n",
       "      <th>Block max</th>\n",
       "    </tr>\n",
       "  </thead>\n",
       "  <tbody>\n",
       "    <tr>\n",
       "      <th>0</th>\n",
       "      <td>Page load time (s)</td>\n",
       "      <td>0.156</td>\n",
       "      <td>0.656</td>\n",
       "      <td>5.369</td>\n",
       "      <td>0.125</td>\n",
       "      <td>0.608</td>\n",
       "      <td>3.186</td>\n",
       "    </tr>\n",
       "    <tr>\n",
       "      <th>1</th>\n",
       "      <td>Number of requests</td>\n",
       "      <td>1.000</td>\n",
       "      <td>43.000</td>\n",
       "      <td>165.000</td>\n",
       "      <td>1.000</td>\n",
       "      <td>37.000</td>\n",
       "      <td>158.000</td>\n",
       "    </tr>\n",
       "    <tr>\n",
       "      <th>2</th>\n",
       "      <td>Distinct third party domains</td>\n",
       "      <td>0.000</td>\n",
       "      <td>3.000</td>\n",
       "      <td>10.000</td>\n",
       "      <td>0.000</td>\n",
       "      <td>2.000</td>\n",
       "      <td>6.000</td>\n",
       "    </tr>\n",
       "    <tr>\n",
       "      <th>3</th>\n",
       "      <td>Distinct tracker domains</td>\n",
       "      <td>0.000</td>\n",
       "      <td>1.000</td>\n",
       "      <td>8.000</td>\n",
       "      <td>0.000</td>\n",
       "      <td>0.000</td>\n",
       "      <td>1.000</td>\n",
       "    </tr>\n",
       "    <tr>\n",
       "      <th>4</th>\n",
       "      <td>Distinct third party domains with cookie</td>\n",
       "      <td>0.000</td>\n",
       "      <td>0.000</td>\n",
       "      <td>2.000</td>\n",
       "      <td>0.000</td>\n",
       "      <td>0.000</td>\n",
       "      <td>1.000</td>\n",
       "    </tr>\n",
       "  </tbody>\n",
       "</table>\n",
       "</div>"
      ],
      "text/plain": [
       "                                     Metric Allow min Allow median Allow max  \\\n",
       "0                        Page load time (s)     0.156        0.656     5.369   \n",
       "1                        Number of requests     1.000       43.000   165.000   \n",
       "2              Distinct third party domains     0.000        3.000    10.000   \n",
       "3                  Distinct tracker domains     0.000        1.000     8.000   \n",
       "4  Distinct third party domains with cookie     0.000        0.000     2.000   \n",
       "\n",
       "  Block min Block median Block max  \n",
       "0     0.125        0.608     3.186  \n",
       "1     1.000       37.000   158.000  \n",
       "2     0.000        2.000     6.000  \n",
       "3     0.000        0.000     1.000  \n",
       "4     0.000        0.000     1.000  "
      ]
     },
     "execution_count": 114,
     "metadata": {},
     "output_type": "execute_result"
    }
   ],
   "source": [
    "from statistics import median\n",
    "\n",
    "dfs = [\n",
    "    df_page_load_times,\n",
    "    df_number_requests,\n",
    "    df_third_party,\n",
    "    df_tracker_domain,\n",
    "    df_same_site,\n",
    "]\n",
    "\n",
    "header = [\n",
    "    'Page load time (s)',\n",
    "    'Number of requests',\n",
    "    'Distinct third party domains',\n",
    "    'Distinct tracker domains',\n",
    "    'Distinct third party domains with cookie'\n",
    "]\n",
    "\n",
    "data = {'Metric': header}\n",
    "measures = [min, median, max]\n",
    "\n",
    "for crawl_type in ['Allow', 'Block']:\n",
    "    for measure in measures:\n",
    "        row = [measure(df[df['Crawl Type'] == crawl_type][df.columns[0]]) for df in dfs]\n",
    "        data[crawl_type + ' ' + measure.__name__] = row\n",
    "\n",
    "df = pd.DataFrame(data)\n",
    "df = df.map(lambda x: f\"{x:.3f}\" if isinstance(x, float) else x)\n",
    "df"
   ]
  },
  {
   "cell_type": "markdown",
   "id": "9ac66bf1",
   "metadata": {},
   "source": [
    "### Exercise 4"
   ]
  },
  {
   "cell_type": "code",
   "execution_count": 117,
   "id": "6a62f7be",
   "metadata": {},
   "outputs": [],
   "source": [
    "def prevalent_third_party(hars):\n",
    "    websites_tracker_info = {}\n",
    "\n",
    "    for har in hars:\n",
    "            main_url = har['log']['entries'][0]['request']['url']\n",
    "            main_domain = extract_domain_info(main_url)\n",
    "\n",
    "            for entry in har['log']['entries']:\n",
    "                url = entry['request']['url']\n",
    "                domain = extract_domain_info(url)\n",
    "\n",
    "                if domain and domain != main_domain:\n",
    "                    if domain not in websites_tracker_info:\n",
    "                        websites_tracker_info[domain] = [1, 'Yes' if domain in disconnect_domains else 'No']\n",
    "                    else:\n",
    "                        websites_tracker_info[domain][0] += 1\n",
    "\n",
    "    return websites_tracker_info\n",
    "\n",
    "prevalent_allow = prevalent_third_party(hars_allow)\n",
    "prevalent_block = prevalent_third_party(hars_block)"
   ]
  },
  {
   "cell_type": "code",
   "execution_count": 118,
   "id": "70283f68",
   "metadata": {},
   "outputs": [
    {
     "data": {
      "text/html": [
       "<div>\n",
       "<style scoped>\n",
       "    .dataframe tbody tr th:only-of-type {\n",
       "        vertical-align: middle;\n",
       "    }\n",
       "\n",
       "    .dataframe tbody tr th {\n",
       "        vertical-align: top;\n",
       "    }\n",
       "\n",
       "    .dataframe thead th {\n",
       "        text-align: right;\n",
       "    }\n",
       "</style>\n",
       "<table border=\"1\" class=\"dataframe\">\n",
       "  <thead>\n",
       "    <tr style=\"text-align: right;\">\n",
       "      <th></th>\n",
       "      <th>Third-party domain</th>\n",
       "      <th>Number of distinct websites (Crawl-allow)</th>\n",
       "      <th>is Tracker?</th>\n",
       "    </tr>\n",
       "  </thead>\n",
       "  <tbody>\n",
       "    <tr>\n",
       "      <th>0</th>\n",
       "      <td>piwik.pro</td>\n",
       "      <td>44</td>\n",
       "      <td>No</td>\n",
       "    </tr>\n",
       "    <tr>\n",
       "      <th>1</th>\n",
       "      <td>google-analytics.com</td>\n",
       "      <td>40</td>\n",
       "      <td>Yes</td>\n",
       "    </tr>\n",
       "    <tr>\n",
       "      <th>2</th>\n",
       "      <td>sim-cdn.nl</td>\n",
       "      <td>38</td>\n",
       "      <td>No</td>\n",
       "    </tr>\n",
       "    <tr>\n",
       "      <th>3</th>\n",
       "      <td>rijksoverheid.nl</td>\n",
       "      <td>35</td>\n",
       "      <td>No</td>\n",
       "    </tr>\n",
       "    <tr>\n",
       "      <th>4</th>\n",
       "      <td>siteimproveanalytics.io</td>\n",
       "      <td>34</td>\n",
       "      <td>Yes</td>\n",
       "    </tr>\n",
       "    <tr>\n",
       "      <th>5</th>\n",
       "      <td>googletagmanager.com</td>\n",
       "      <td>26</td>\n",
       "      <td>No</td>\n",
       "    </tr>\n",
       "    <tr>\n",
       "      <th>6</th>\n",
       "      <td>readspeaker.com</td>\n",
       "      <td>21</td>\n",
       "      <td>No</td>\n",
       "    </tr>\n",
       "    <tr>\n",
       "      <th>7</th>\n",
       "      <td>abtasty.com</td>\n",
       "      <td>21</td>\n",
       "      <td>Yes</td>\n",
       "    </tr>\n",
       "    <tr>\n",
       "      <th>8</th>\n",
       "      <td>typekit.net</td>\n",
       "      <td>21</td>\n",
       "      <td>No</td>\n",
       "    </tr>\n",
       "    <tr>\n",
       "      <th>9</th>\n",
       "      <td>report-uri.com</td>\n",
       "      <td>16</td>\n",
       "      <td>No</td>\n",
       "    </tr>\n",
       "  </tbody>\n",
       "</table>\n",
       "</div>"
      ],
      "text/plain": [
       "        Third-party domain  Number of distinct websites (Crawl-allow)  \\\n",
       "0                piwik.pro                                         44   \n",
       "1     google-analytics.com                                         40   \n",
       "2               sim-cdn.nl                                         38   \n",
       "3         rijksoverheid.nl                                         35   \n",
       "4  siteimproveanalytics.io                                         34   \n",
       "5     googletagmanager.com                                         26   \n",
       "6          readspeaker.com                                         21   \n",
       "7              abtasty.com                                         21   \n",
       "8              typekit.net                                         21   \n",
       "9           report-uri.com                                         16   \n",
       "\n",
       "  is Tracker?  \n",
       "0          No  \n",
       "1         Yes  \n",
       "2          No  \n",
       "3          No  \n",
       "4         Yes  \n",
       "5          No  \n",
       "6          No  \n",
       "7         Yes  \n",
       "8          No  \n",
       "9          No  "
      ]
     },
     "execution_count": 118,
     "metadata": {},
     "output_type": "execute_result"
    }
   ],
   "source": [
    "prevalent_allow = dict(sorted(prevalent_allow.items(), key=lambda x: x[1][0], reverse=True)[:10])\n",
    "values_list = list(prevalent_allow.values())\n",
    "data = {\n",
    "    'Third-party domain': list(prevalent_allow.keys()),\n",
    "    'Number of distinct websites (Crawl-allow)': [x[0] for x in values_list],\n",
    "    'is Tracker?': [x[1] for x in values_list]}\n",
    "pd.DataFrame(data)"
   ]
  },
  {
   "cell_type": "code",
   "execution_count": 119,
   "id": "9e590d12",
   "metadata": {},
   "outputs": [
    {
     "data": {
      "text/html": [
       "<div>\n",
       "<style scoped>\n",
       "    .dataframe tbody tr th:only-of-type {\n",
       "        vertical-align: middle;\n",
       "    }\n",
       "\n",
       "    .dataframe tbody tr th {\n",
       "        vertical-align: top;\n",
       "    }\n",
       "\n",
       "    .dataframe thead th {\n",
       "        text-align: right;\n",
       "    }\n",
       "</style>\n",
       "<table border=\"1\" class=\"dataframe\">\n",
       "  <thead>\n",
       "    <tr style=\"text-align: right;\">\n",
       "      <th></th>\n",
       "      <th>Third-party domain</th>\n",
       "      <th>Number of distinct websites (Crawl-block)</th>\n",
       "      <th>is Tracker?</th>\n",
       "    </tr>\n",
       "  </thead>\n",
       "  <tbody>\n",
       "    <tr>\n",
       "      <th>0</th>\n",
       "      <td>piwik.pro</td>\n",
       "      <td>44</td>\n",
       "      <td>No</td>\n",
       "    </tr>\n",
       "    <tr>\n",
       "      <th>1</th>\n",
       "      <td>sim-cdn.nl</td>\n",
       "      <td>43</td>\n",
       "      <td>No</td>\n",
       "    </tr>\n",
       "    <tr>\n",
       "      <th>2</th>\n",
       "      <td>rijksoverheid.nl</td>\n",
       "      <td>34</td>\n",
       "      <td>No</td>\n",
       "    </tr>\n",
       "    <tr>\n",
       "      <th>3</th>\n",
       "      <td>googletagmanager.com</td>\n",
       "      <td>25</td>\n",
       "      <td>No</td>\n",
       "    </tr>\n",
       "    <tr>\n",
       "      <th>4</th>\n",
       "      <td>google-analytics.com</td>\n",
       "      <td>23</td>\n",
       "      <td>Yes</td>\n",
       "    </tr>\n",
       "    <tr>\n",
       "      <th>5</th>\n",
       "      <td>readspeaker.com</td>\n",
       "      <td>21</td>\n",
       "      <td>No</td>\n",
       "    </tr>\n",
       "    <tr>\n",
       "      <th>6</th>\n",
       "      <td>typekit.net</td>\n",
       "      <td>21</td>\n",
       "      <td>No</td>\n",
       "    </tr>\n",
       "    <tr>\n",
       "      <th>7</th>\n",
       "      <td>report-uri.com</td>\n",
       "      <td>16</td>\n",
       "      <td>No</td>\n",
       "    </tr>\n",
       "    <tr>\n",
       "      <th>8</th>\n",
       "      <td>mopinion.com</td>\n",
       "      <td>15</td>\n",
       "      <td>No</td>\n",
       "    </tr>\n",
       "    <tr>\n",
       "      <th>9</th>\n",
       "      <td>citynavigator.nl</td>\n",
       "      <td>14</td>\n",
       "      <td>No</td>\n",
       "    </tr>\n",
       "  </tbody>\n",
       "</table>\n",
       "</div>"
      ],
      "text/plain": [
       "     Third-party domain  Number of distinct websites (Crawl-block) is Tracker?\n",
       "0             piwik.pro                                         44          No\n",
       "1            sim-cdn.nl                                         43          No\n",
       "2      rijksoverheid.nl                                         34          No\n",
       "3  googletagmanager.com                                         25          No\n",
       "4  google-analytics.com                                         23         Yes\n",
       "5       readspeaker.com                                         21          No\n",
       "6           typekit.net                                         21          No\n",
       "7        report-uri.com                                         16          No\n",
       "8          mopinion.com                                         15          No\n",
       "9      citynavigator.nl                                         14          No"
      ]
     },
     "execution_count": 119,
     "metadata": {},
     "output_type": "execute_result"
    }
   ],
   "source": [
    "prevalent_block = dict(sorted(prevalent_block.items(), key=lambda x: x[1][0], reverse=True)[:10])\n",
    "values_list = list(prevalent_block.values())\n",
    "data = {\n",
    "    'Third-party domain': list(prevalent_block.keys()),\n",
    "    'Number of distinct websites (Crawl-block)': [x[0] for x in values_list],\n",
    "    'is Tracker?': [x[1] for x in values_list]}\n",
    "pd.DataFrame(data)"
   ]
  },
  {
   "cell_type": "markdown",
   "id": "009ef956",
   "metadata": {},
   "source": [
    "### Exercise 5"
   ]
  },
  {
   "cell_type": "code",
   "execution_count": 122,
   "id": "3eb1ce27",
   "metadata": {},
   "outputs": [],
   "source": [
    "def frequency_methods(hars):\n",
    "    frequency_methods = {}\n",
    "\n",
    "    for har in hars:\n",
    "        for entry in har['log']['entries']:\n",
    "            headers_request = entry['request']\n",
    "            method = headers_request.get(\"method\")\n",
    "\n",
    "            if method not in frequency_methods:\n",
    "                frequency_methods[method] = 1\n",
    "            else:\n",
    "                frequency_methods[method] += 1\n",
    "\n",
    "    return frequency_methods\n",
    "\n",
    "frequency_methods_allow = frequency_methods(hars_allow)\n",
    "frequency_methods_block = frequency_methods(hars_block)"
   ]
  },
  {
   "cell_type": "code",
   "execution_count": 123,
   "id": "5427689e",
   "metadata": {},
   "outputs": [
    {
     "data": {
      "text/html": [
       "<div>\n",
       "<style scoped>\n",
       "    .dataframe tbody tr th:only-of-type {\n",
       "        vertical-align: middle;\n",
       "    }\n",
       "\n",
       "    .dataframe tbody tr th {\n",
       "        vertical-align: top;\n",
       "    }\n",
       "\n",
       "    .dataframe thead th {\n",
       "        text-align: right;\n",
       "    }\n",
       "</style>\n",
       "<table border=\"1\" class=\"dataframe\">\n",
       "  <thead>\n",
       "    <tr style=\"text-align: right;\">\n",
       "      <th></th>\n",
       "      <th>HTTP Method</th>\n",
       "      <th>Number of requests with method: Crawl-Allow</th>\n",
       "      <th>Number of requests with method: Crawl-Block</th>\n",
       "    </tr>\n",
       "  </thead>\n",
       "  <tbody>\n",
       "    <tr>\n",
       "      <th>0</th>\n",
       "      <td>GET</td>\n",
       "      <td>2282</td>\n",
       "      <td>2197</td>\n",
       "    </tr>\n",
       "    <tr>\n",
       "      <th>1</th>\n",
       "      <td>POST</td>\n",
       "      <td>122</td>\n",
       "      <td>105</td>\n",
       "    </tr>\n",
       "    <tr>\n",
       "      <th>2</th>\n",
       "      <td>HEAD</td>\n",
       "      <td>1</td>\n",
       "      <td>1</td>\n",
       "    </tr>\n",
       "  </tbody>\n",
       "</table>\n",
       "</div>"
      ],
      "text/plain": [
       "  HTTP Method  Number of requests with method: Crawl-Allow  \\\n",
       "0         GET                                         2282   \n",
       "1        POST                                          122   \n",
       "2        HEAD                                            1   \n",
       "\n",
       "   Number of requests with method: Crawl-Block  \n",
       "0                                         2197  \n",
       "1                                          105  \n",
       "2                                            1  "
      ]
     },
     "execution_count": 123,
     "metadata": {},
     "output_type": "execute_result"
    }
   ],
   "source": [
    "data = {\n",
    "    'HTTP Method': ['GET', 'POST', 'HEAD'],\n",
    "    'Number of requests with method: Crawl-Allow': [frequency_methods_allow['GET'], frequency_methods_allow['POST'],frequency_methods_allow['HEAD']],\n",
    "    'Number of requests with method: Crawl-Block': [frequency_methods_block['GET'], frequency_methods_block['POST'], frequency_methods_block['HEAD']]\n",
    "}\n",
    "data\n",
    "pd.DataFrame(data)"
   ]
  },
  {
   "cell_type": "markdown",
   "id": "db03d57e",
   "metadata": {},
   "source": [
    "### Exercise 6"
   ]
  },
  {
   "cell_type": "code",
   "execution_count": 126,
   "id": "c2f85bfd",
   "metadata": {},
   "outputs": [],
   "source": [
    "def analyze_permissions(hars):\n",
    "    permissions_lists = {\n",
    "        \"geolocation\": [],\n",
    "        \"camera\": [],\n",
    "        \"microphone\": [],\n",
    "    }\n",
    "\n",
    "    for har in hars:\n",
    "        for entry in har['log']['entries']:\n",
    "            response_headers = entry['response']['headers']\n",
    "\n",
    "            permissions_policy = None\n",
    "            for header in response_headers:\n",
    "                if header['name'] == 'Permissions-Policy':\n",
    "                    permissions_policy = header['value']\n",
    "                    break\n",
    "\n",
    "            if permissions_policy:\n",
    "                website = entry['request']['url']\n",
    "\n",
    "                if \"geolocation=()\" in permissions_policy:\n",
    "                    permissions_lists[\"geolocation\"].append(website)\n",
    "\n",
    "                if \"camera=()\" in permissions_policy:\n",
    "                    permissions_lists[\"camera\"].append(website)\n",
    "\n",
    "                if \"microphone=()\" in permissions_policy:\n",
    "                    permissions_lists[\"microphone\"].append(website)\n",
    "\n",
    "    return permissions_lists\n",
    "\n",
    "permissions_allow = analyze_permissions(hars_allow)\n",
    "permissions_block = analyze_permissions(hars_block)"
   ]
  },
  {
   "cell_type": "code",
   "execution_count": 129,
   "id": "f6c46d50",
   "metadata": {},
   "outputs": [
    {
     "name": "stdout",
     "output_type": "stream",
     "text": [
      "ALLOW\n",
      "('geolocation', ['https://www.nwo.nl/', 'https://www.nwo.nl/calamity/check', 'https://www.nwo.nl/cookies/consent/callback.json'])\n",
      "('camera', ['https://www.nwo.nl/', 'https://www.nwo.nl/calamity/check', 'https://www.nwo.nl/cookies/consent/callback.json'])\n",
      "('microphone', ['https://www.nwo.nl/', 'https://www.nwo.nl/calamity/check', 'https://www.nwo.nl/cookies/consent/callback.json'])\n",
      "BLOCK\n",
      "('geolocation', ['https://www.nwo.nl/', 'https://www.nwo.nl/calamity/check', 'https://www.nwo.nl/cookies/consent/callback.json'])\n",
      "('camera', ['https://www.nwo.nl/', 'https://www.nwo.nl/calamity/check', 'https://www.nwo.nl/cookies/consent/callback.json'])\n",
      "('microphone', ['https://www.nwo.nl/', 'https://www.nwo.nl/calamity/check', 'https://www.nwo.nl/cookies/consent/callback.json'])\n"
     ]
    }
   ],
   "source": [
    "print('ALLOW')\n",
    "print(*permissions_allow.items(), sep='\\n')\n",
    "\n",
    "print('BLOCK')\n",
    "print(*permissions_block.items(), sep='\\n')"
   ]
  },
  {
   "cell_type": "markdown",
   "id": "b0c72c82",
   "metadata": {},
   "source": [
    "### Exercise 7"
   ]
  },
  {
   "cell_type": "code",
   "execution_count": 133,
   "id": "bf0725b6",
   "metadata": {},
   "outputs": [],
   "source": [
    "from collections import defaultdict\n",
    "import os\n",
    "\n",
    "def analyze_referrer_policy(hars):\n",
    "    no_referrer_sites = set()\n",
    "    unsafe_url_sites = set()\n",
    "\n",
    "    for har in hars:\n",
    "        for entry in har['log']['entries']:\n",
    "            response_headers = entry['response']['headers']\n",
    "            url = entry['request']['url']\n",
    "\n",
    "            # Extract Referrer-Policy headers\n",
    "            for header in response_headers:\n",
    "                if header['name'].lower() == 'referrer-policy':\n",
    "                    policy_value = header['value'].strip().lower()\n",
    "\n",
    "                    # Check for no-referrer and unsafe-url values\n",
    "                    if policy_value == 'no-referrer':\n",
    "                        no_referrer_sites.add(har['log']['entries'][0]['request']['url'])\n",
    "                    elif policy_value == 'unsafe-url':\n",
    "                        unsafe_url_sites.add(har['log']['entries'][0]['request']['url'])\n",
    "\n",
    "    return no_referrer_sites, unsafe_url_sites\n",
    "\n",
    "no_referrer_sites_allow, unsafe_url_sites_allow = analyze_referrer_policy(hars_allow)\n",
    "no_referrer_sites_block, unsafe_url_sites_block = analyze_referrer_policy(hars_allow)"
   ]
  },
  {
   "cell_type": "code",
   "execution_count": 134,
   "id": "bfeca1b6",
   "metadata": {},
   "outputs": [
    {
     "name": "stdout",
     "output_type": "stream",
     "text": [
      "No referrer sites allow: {'https://www.noord-holland.nl/', 'https://business.gov.nl/', 'https://ind.nl/', 'https://www.studyinnl.org/', 'https://www.provinciegroningen.nl/', 'https://www.werk.nl/', 'https://www.digid.nl/', 'https://www.gelderland.nl/', 'https://www.denhaag.nl/'}\n",
      "No referrer sites block: {'https://www.noord-holland.nl/', 'https://business.gov.nl/', 'https://ind.nl/', 'https://www.studyinnl.org/', 'https://www.provinciegroningen.nl/', 'https://www.werk.nl/', 'https://www.digid.nl/', 'https://www.gelderland.nl/', 'https://www.denhaag.nl/'}\n",
      "Unsafe url sites allow: {'https://www.utrecht.nl/'}\n",
      "Unsafe url sites allow: {'https://www.utrecht.nl/'}\n"
     ]
    }
   ],
   "source": [
    "print(\"No referrer sites allow:\", no_referrer_sites_allow)\n",
    "print(\"No referrer sites block:\", no_referrer_sites_block)\n",
    "\n",
    "print(\"Unsafe url sites allow:\", unsafe_url_sites_allow)\n",
    "print(\"Unsafe url sites allow:\", unsafe_url_sites_allow)"
   ]
  },
  {
   "cell_type": "code",
   "execution_count": null,
   "id": "55714be7",
   "metadata": {},
   "outputs": [],
   "source": []
  }
 ],
 "metadata": {
  "kernelspec": {
   "display_name": "Python 3 (ipykernel)",
   "language": "python",
   "name": "python3"
  },
  "language_info": {
   "codemirror_mode": {
    "name": "ipython",
    "version": 3
   },
   "file_extension": ".py",
   "mimetype": "text/x-python",
   "name": "python",
   "nbconvert_exporter": "python",
   "pygments_lexer": "ipython3",
   "version": "3.11.8"
  }
 },
 "nbformat": 4,
 "nbformat_minor": 5
}
